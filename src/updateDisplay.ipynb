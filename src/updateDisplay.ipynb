{
 "cells": [
  {
   "cell_type": "code",
   "execution_count": null,
   "metadata": {},
   "outputs": [
    {
     "name": "stdout",
     "output_type": "stream",
     "text": [
      " * Serving Flask app \"__main__\" (lazy loading)\n",
      " * Environment: production\n",
      "   WARNING: This is a development server. Do not use it in a production deployment.\n",
      "   Use a production WSGI server instead.\n",
      " * Debug mode: off\n"
     ]
    },
    {
     "name": "stderr",
     "output_type": "stream",
     "text": [
      " * Running on http://0.0.0.0:81/ (Press CTRL+C to quit)\n",
      "127.0.0.1 - - [21/May/2021 01:36:37] \"\u001b[37mGET / HTTP/1.1\u001b[0m\" 200 -\n"
     ]
    },
    {
     "name": "stdout",
     "output_type": "stream",
     "text": [
      "Inside the home page\n"
     ]
    },
    {
     "name": "stderr",
     "output_type": "stream",
     "text": [
      "127.0.0.1 - - [21/May/2021 01:36:38] \"\u001b[37mPOST /new_driver HTTP/1.1\u001b[0m\" 200 -\n"
     ]
    },
    {
     "name": "stdout",
     "output_type": "stream",
     "text": [
      "Inside the enterDriver details function...\n"
     ]
    },
    {
     "name": "stderr",
     "output_type": "stream",
     "text": [
      "127.0.0.1 - - [21/May/2021 01:36:47] \"\u001b[32mPOST /new_driver HTTP/1.1\u001b[0m\" 302 -\n"
     ]
    },
    {
     "name": "stdout",
     "output_type": "stream",
     "text": [
      "Inside the enterDriver details function...\n",
      "Inside the main saving function..\n",
      "pandas frame created .. !\n"
     ]
    },
    {
     "name": "stderr",
     "output_type": "stream",
     "text": [
      "127.0.0.1 - - [21/May/2021 01:36:47] \"\u001b[37mGET /display HTTP/1.1\u001b[0m\" 200 -\n"
     ]
    }
   ],
   "source": [
    "from flask import Flask, flash\n",
    "from flask import render_template\n",
    "from flask import request\n",
    "from wtforms import Form, StringField, SelectField\n",
    "from flask import Flask, redirect, url_for, request\n",
    "from flask_wtf import FlaskForm\n",
    "\n",
    "import csv\n",
    "import pandas as pd\n",
    "\n",
    "class DriverForm(FlaskForm):\n",
    "    driverRef = StringField('driverRef')\n",
    "    number = StringField('number')\n",
    "    code = StringField('code')\n",
    "    forename = StringField('forename')\n",
    "    surname = StringField('surname')\n",
    "    dob = StringField('dob')\n",
    "    nationality = StringField('nationality')\n",
    "    url = StringField('url')\n",
    "\n",
    "driver_csv = pd.read_csv(r'f1db_csv\\drivers.csv')\n",
    "driver_ranking = pd.read_csv(r'f1db_csv\\driver_standings.csv')\n",
    "driverDetails = pd.read_csv(r'f1db_csv\\drivers.csv')\n",
    "\n",
    "def enterDriverDetails(driverDetails, tempList):\n",
    "    k = 0\n",
    "    print(\"Inside the main saving function..\")\n",
    "       #for k in range(1, len(driverDetails.columns)):\n",
    "    #    print(tempList[k])\n",
    "    maxId = driverDetails['driverId'].max() + 1\n",
    "    data = []\n",
    "    columns = []\n",
    "    for i in range(len(tempList) + 1):\n",
    "        if i == 0:\n",
    "            data.append(maxId)\n",
    "        else:\n",
    "            data.append(tempList[i - 1])\n",
    "        columns.append(driverDetails.columns[i])\n",
    "    newFrame = [{columns[0]: data[0], columns[1]: data[1], columns[2]: data[2], columns[3]: data[3], columns[4]: data[4], columns[5]: data[5], columns[6]: data[6], columns[7]: data[7], columns[8]: data[8]}]\n",
    "    newFrame = pd.DataFrame(newFrame)\n",
    "    driverDetails = driverDetails.append(newFrame, ignore_index = True)\n",
    "    #driverDetails = driverDetails.drop(columns=driverDetails.columns[0])\n",
    "    html_render = driverDetails.to_html()\n",
    "    csv_file = driverDetails.to_csv(r'f1db_csv\\drivers.csv', index=False)\n",
    "    \n",
    "def homeView():\n",
    "    print(\"Inside the home page\")\n",
    "    \n",
    "    return render_template('home.html')\n",
    "    \n",
    "def get_driver_info(driverId):\n",
    "    merged_dataframe = pd.merge(driver_csv,driver_ranking,on ='driverId', how = 'left')\n",
    "    filtered_data=merged_dataframe.loc[merged_dataframe['driverId'] == driverId]\n",
    "    html_render = filtered_data.to_html()\n",
    "    with open(r'templates\\driver.html', 'w') as fo:\n",
    "        fo.write(html_render)\n",
    "    fo.close()\n",
    "\n",
    "def enterDriver():\n",
    "    driver_form = DriverForm()\n",
    "    print(\"Inside the enterDriver details function...\")\n",
    "    if driver_form.validate_on_submit():\n",
    "        driverDetails = pd.read_csv(r'f1db_csv\\drivers.csv')\n",
    "        tempList = [driver_form.driverRef.data, driver_form.number.data, driver_form.code.data, driver_form.forename.data, driver_form.surname.data, driver_form.dob.data, driver_form.nationality.data, driver_form.url.data]\n",
    "        enterDriverDetails(driverDetails, tempList)\n",
    "        print('pandas frame created .. !')\n",
    "        return redirect(url_for('displayPage'))\n",
    "    return render_template('updateDriver.html',driver_form=driver_form)\n",
    "  \n",
    "def remove(driverDetails):\n",
    "    getDriverID = input('Enter the Driver ID: ')\n",
    "    driverIDFound = False\n",
    "    for index, row in driverDetails.iterrows():\n",
    "        if driverDetails.loc[index,'driverId'] == int(getDriverID):\n",
    "            reqRow = index\n",
    "            driverIDFound = True\n",
    "    driverDetails = driverDetails.drop([reqRow])\n",
    "    html_render = driverDetails.to_html()\n",
    "    with open(r'templates\\driver.html', 'w') as fo:\n",
    "        fo.write(html_render)\n",
    "    fo.close()\n",
    "    \n",
    "app = Flask(__name__)\n",
    "app.config['SECRET_KEY'] = 'C2HWGVoMGfNTBsrYQg8EcMrdTimkZfAb'\n",
    "\n",
    "@app.route('/', methods=['GET', 'POST'])\n",
    "def homePage():\n",
    "    return homeView()\n",
    "\n",
    "@app.route('/new_driver', methods=['GET', 'POST'])\n",
    "def new_driver():\n",
    "    \"\"\"\n",
    "    Add a new entry\n",
    "    \"\"\"\n",
    "    return enterDriver()\n",
    "    \n",
    "def displayView(driverDetails):\n",
    "    html_render = driverDetails.to_html()\n",
    "    return html_render\n",
    "    #return render_template(r'C:\\Users\\snesh\\OneDrive\\Documents\\Spring Block Week 2021\\DataScience\\templates\\driver.html')\n",
    "\n",
    "@app.route('/display', methods=['GET', 'POST'])\n",
    "def displayPage():\n",
    "    driverDetails = pd.read_csv(r'f1db_csv\\drivers.csv')\n",
    "    return displayView(driverDetails)\n",
    "\n",
    "@app.route('/races')\n",
    "def raceDisp():\n",
    "    #read csv file\n",
    "    infile = open(r'f1db_csv\\races.csv')\n",
    "    frame = pd.read_csv(r'f1db_csv\\races.csv')\n",
    "\n",
    "    for line in infile:\n",
    "        row = line.split(\",\")\n",
    "        race = row[0]\n",
    "        year = row[1]\n",
    "        rnd = row[2]\n",
    "        circuit = row[3]\n",
    "        name = row[4]\n",
    "        date = row[5]\n",
    "        time = row[6]\n",
    "        wiki = row[7]\n",
    "\n",
    "        print(\"<tr>\")\n",
    "        print(\"<td>%s</td>\" % race)\n",
    "        print(\"<td>%s</td>\" % year)\n",
    "        print(\"<td>%s</td>\" % rnd)\n",
    "        print(\"<td>%s</td>\" % circuit)\n",
    "        print(\"<td>%s</td>\" % name)\n",
    "        print(\"<td>%s</td>\" % date)\n",
    "        print(\"<td>%s</td>\" % time)\n",
    "        print(\"<td>%s</td>\" % wiki)\n",
    "        print(\"</tr>\")\n",
    "\n",
    "    print(\"</table>\")\n",
    "    htmlFrame = frame.to_html()\n",
    "    return htmlFrame\n",
    "    \n",
    "\n",
    "\n",
    "app.run(host='0.0.0.0', port=81)"
   ]
  },
  {
   "cell_type": "code",
   "execution_count": null,
   "metadata": {},
   "outputs": [],
   "source": []
  },
  {
   "cell_type": "code",
   "execution_count": null,
   "metadata": {},
   "outputs": [],
   "source": []
  },
  {
   "cell_type": "code",
   "execution_count": null,
   "metadata": {},
   "outputs": [],
   "source": []
  }
 ],
 "metadata": {
  "kernelspec": {
   "display_name": "Python 3",
   "language": "python",
   "name": "python3"
  },
  "language_info": {
   "codemirror_mode": {
    "name": "ipython",
    "version": 3
   },
   "file_extension": ".py",
   "mimetype": "text/x-python",
   "name": "python",
   "nbconvert_exporter": "python",
   "pygments_lexer": "ipython3",
   "version": "3.8.3"
  }
 },
 "nbformat": 4,
 "nbformat_minor": 4
}
